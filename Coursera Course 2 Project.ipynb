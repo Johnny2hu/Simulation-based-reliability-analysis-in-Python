{
 "cells": [
  {
   "cell_type": "markdown",
   "metadata": {
    "collapsed": true
   },
   "source": [
    "# My Jupyter Notebook on IBM Data Science Experience"
   ]
  },
  {
   "cell_type": "markdown",
   "metadata": {
    "collapsed": false
   },
   "source": [
    "**Zhangli Hu**  \n",
    "I am currently a PhD student and I would like to pursue a career as a data scientist."
   ]
  },
  {
   "cell_type": "markdown",
   "metadata": {},
   "source": [
    "*I am interested in data science because I have always been facinated by data and want to know what story they tell.*"
   ]
  },
  {
   "cell_type": "markdown",
   "metadata": {},
   "source": [
    "### Prime number generator"
   ]
  },
  {
   "cell_type": "code",
   "execution_count": 9,
   "metadata": {
    "collapsed": false
   },
   "outputs": [
    {
     "name": "stdout",
     "output_type": "stream",
     "text": [
      "[1, 3, 5, 7, 11, 13, 17, 19]\n"
     ]
    }
   ],
   "source": [
    "primenumber = []\n",
    "upperlimit = 20     # generate prime numbers between 1 and 20\n",
    "for test_num in range(upperlimit):\n",
    "    if test_num ==1:\n",
    "        primenumber.append(1)     # number 1 is prime\n",
    "    elif test_num>2:            \n",
    "        prime_indicator = True    # Assume every number is prime  \n",
    "        for i in range(2,test_num): \n",
    "            if test_num%i == 0:      # the test number can be divided into the multiplication of other two numbers \n",
    "                prime_indicator = False\n",
    "                break\n",
    "        \n",
    "        if prime_indicator:      # check the status of prime indicator\n",
    "            primenumber.append(test_num)\n",
    "\n",
    "print(primenumber)"
   ]
  },
  {
   "cell_type": "markdown",
   "metadata": {},
   "source": [
    "<a href=https://www.cognitiveclass.ai>Cognitive Class</a>\n",
    "\n",
    "\n",
    "---\n",
    "1. Python\n",
    "2. R\n",
    "3. Scala\n",
    "***\n",
    "* NumPy\n",
    "* Scipy\n",
    "* Matplotlib\n",
    "* Pandas\n",
    "* Tensorflow\n",
    "\n",
    "> I would like to try more styling in the Markdown cell"
   ]
  },
  {
   "cell_type": "code",
   "execution_count": null,
   "metadata": {
    "collapsed": true
   },
   "outputs": [],
   "source": []
  }
 ],
 "metadata": {
  "kernelspec": {
   "display_name": "Python 3",
   "language": "python",
   "name": "python3"
  },
  "language_info": {
   "codemirror_mode": {
    "name": "ipython",
    "version": 3
   },
   "file_extension": ".py",
   "mimetype": "text/x-python",
   "name": "python",
   "nbconvert_exporter": "python",
   "pygments_lexer": "ipython3",
   "version": "3.5.2"
  },
  "widgets": {
   "state": {},
   "version": "1.1.2"
  }
 },
 "nbformat": 4,
 "nbformat_minor": 2
}
